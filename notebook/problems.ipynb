{
    "cells": [
        {
            "cell_type": "markdown",
            "id": "ac622319",
            "metadata": {},
            "source": [
                "# Descriptive statistics problems"
            ]
        },
        {
            "cell_type": "markdown",
            "id": "5e0ab0d5",
            "metadata": {},
            "source": [
                "### Exercise 1\n",
                "\n",
                "We will use NumPy to obtain information to describe statistically.\n",
                "\n",
                "- Generate an array of 100 elements following a normal distribution.\n",
                "- Generate an array of 100 elements following a chi-square distribution with 3 degrees of freedom.\n",
                "- Calculate the main metrics and statistical measures that best describe the two vectors."
            ]
        },
        {
            "cell_type": "code",
            "execution_count": 19,
            "id": "34720ab6",
            "metadata": {},
            "outputs": [
                {
                    "name": "stdout",
                    "output_type": "stream",
                    "text": [
                        "0.9149607754168942\n"
                    ]
                }
            ],
            "source": [
                "# TODO\n",
                "import numpy as np\n",
                "array_normal = np.random.randn(100)\n",
                "array_chi2 = np.random.chisquare(100,3)\n",
                "\n",
                "#media\n",
                "media_normal = np.mean(array_normal)\n",
                "media_chi2 = np.mean(array_chi2)\n",
                "\n",
                "#moda\n",
                "import statistics as stats\n",
                "moda_normal = stats.mode(array_normal)\n",
                "moda_chi2 = stats.mode(array_chi2)\n",
                "\n",
                "#mediana\n",
                "mediana_normal = stats.median(array_normal)\n",
                "mediana_chi2 = stats.median(array_chi2)\n",
                "\n",
                "#desviación estandar\n",
                "desvest_normal = np.std(array_normal)\n",
                "print(desvest_normal)"
            ]
        },
        {
            "cell_type": "markdown",
            "id": "46c70c3d",
            "metadata": {},
            "source": [
                "### Exercise 2\n",
                "\n",
                "Write a Python program to calculate the standard deviation of the following data:\n",
                "\n",
                "```py\n",
                "data = [4, 2, 5, 8, 6]\n",
                "```"
            ]
        },
        {
            "cell_type": "code",
            "execution_count": 26,
            "id": "d590308e",
            "metadata": {},
            "outputs": [
                {
                    "ename": "NameError",
                    "evalue": "name 'datos' is not defined",
                    "output_type": "error",
                    "traceback": [
                        "\u001b[0;31m---------------------------------------------------------------------------\u001b[0m",
                        "\u001b[0;31mNameError\u001b[0m                                 Traceback (most recent call last)",
                        "Cell \u001b[0;32mIn[26], line 9\u001b[0m\n\u001b[1;32m      6\u001b[0m         suma\u001b[38;5;241m+\u001b[39m\u001b[38;5;241m=\u001b[39mn\n\u001b[1;32m      7\u001b[0m     \u001b[38;5;28;01mreturn\u001b[39;00m suma\u001b[38;5;241m/\u001b[39m\u001b[38;5;28mlen\u001b[39m(data)\n\u001b[0;32m----> 9\u001b[0m \u001b[38;5;28mprint\u001b[39m(\u001b[43mpromedio\u001b[49m\u001b[43m(\u001b[49m\u001b[43mdata\u001b[49m\u001b[43m)\u001b[49m)\n\u001b[1;32m     10\u001b[0m \u001b[38;5;28mprint\u001b[39m(np\u001b[38;5;241m.\u001b[39mmean(data))\n\u001b[1;32m     12\u001b[0m \u001b[38;5;28;01mdef\u001b[39;00m \u001b[38;5;21mdistancia_media\u001b[39m(data,media):\n",
                        "Cell \u001b[0;32mIn[26], line 5\u001b[0m, in \u001b[0;36mpromedio\u001b[0;34m(data)\u001b[0m\n\u001b[1;32m      3\u001b[0m \u001b[38;5;28;01mdef\u001b[39;00m \u001b[38;5;21mpromedio\u001b[39m(data):\n\u001b[1;32m      4\u001b[0m     suma\u001b[38;5;241m=\u001b[39m\u001b[38;5;241m0\u001b[39m\n\u001b[0;32m----> 5\u001b[0m     \u001b[38;5;28;01mfor\u001b[39;00m n \u001b[38;5;129;01min\u001b[39;00m \u001b[43mdatos\u001b[49m:\n\u001b[1;32m      6\u001b[0m         suma\u001b[38;5;241m+\u001b[39m\u001b[38;5;241m=\u001b[39mn\n\u001b[1;32m      7\u001b[0m     \u001b[38;5;28;01mreturn\u001b[39;00m suma\u001b[38;5;241m/\u001b[39m\u001b[38;5;28mlen\u001b[39m(data)\n",
                        "\u001b[0;31mNameError\u001b[0m: name 'datos' is not defined"
                    ]
                }
            ],
            "source": [
                "# TODO\n",
                "data = [4,2,5,8,6]\n",
                "def promedio(data):\n",
                "    suma=0\n",
                "    for n in datos:\n",
                "        suma+=n\n",
                "    return suma/len(data)\n",
                "\n",
                "print(promedio(data))\n",
                "print(np.mean(data))\n",
                "\n",
                "def distancia_media(data,media):\n",
                "    resta = dato - media\n",
                "    distancia = resta**2\n",
                "    return distancia\n",
                "\n",
                "import math\n",
                "\n",
                "def des_est(data):\n",
                "    media = promedio(data)\n",
                "    suma_distancias = 0\n",
                "    for n in data:\n",
                "        suma_distancias += distancia_media(n,media)\n",
                "    promedio_distancias = suma_distancias/len(data)\n",
                "    return math.sqrt(promedio_distancias)\n",
                "\n",
                "print(des_est)\n",
                "print(np.std(data))\n"
            ]
        }
    ],
    "metadata": {
        "interpreter": {
            "hash": "9248718ffe6ce6938b217e69dbcc175ea21f4c6b28a317e96c05334edae734bb"
        },
        "kernelspec": {
            "display_name": "Python 3.9.12 ('ML-BOOTCAMP')",
            "language": "python",
            "name": "python3"
        },
        "language_info": {
            "codemirror_mode": {
                "name": "ipython",
                "version": 3
            },
            "file_extension": ".py",
            "mimetype": "text/x-python",
            "name": "python",
            "nbconvert_exporter": "python",
            "pygments_lexer": "ipython3",
            "version": "3.11.4"
        }
    },
    "nbformat": 4,
    "nbformat_minor": 5
}
