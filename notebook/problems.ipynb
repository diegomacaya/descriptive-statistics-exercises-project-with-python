{
    "cells": [
        {
            "cell_type": "markdown",
            "id": "ac622319",
            "metadata": {},
            "source": [
                "# Descriptive statistics problems"
            ]
        },
        {
            "cell_type": "markdown",
            "id": "5e0ab0d5",
            "metadata": {},
            "source": [
                "### Exercise 1\n",
                "\n",
                "We will use NumPy to obtain information to describe statistically.\n",
                "\n",
                "- Generate an array of 100 elements following a normal distribution.\n",
                "- Generate an array of 100 elements following a chi-square distribution with 3 degrees of freedom.\n",
                "- Calculate the main metrics and statistical measures that best describe the two vectors."
            ]
        },
        {
            "cell_type": "code",
            "execution_count": 4,
            "id": "34720ab6",
            "metadata": {},
            "outputs": [],
            "source": [
                "# TODO\n",
                "import numpy as np\n",
                "array_normal = np.random.randn(100) #matriz de 100 elementos distribuidos normal\n",
                "array_chi2 = np.random.chisquare(100,3)\n",
                "\n",
                "#media\n",
                "media_normal = np.mean(array_normal)\n",
                "media_chi2 = np.mean(array_chi2)\n",
                "\n",
                "#moda\n",
                "import statistics as stats\n",
                "moda_normal = stats.mode(array_normal)\n",
                "moda_chi2 = stats.mode(array_chi2)\n",
                "\n",
                "#mediana\n",
                "mediana_normal = stats.median(array_normal)\n",
                "mediana_chi2 = stats.median(array_chi2)\n",
                "\n",
                "#rango\n",
                "rango_normal=max(array_normal)-min(array_normal)\n",
                "rango_chi2=max(array_chi2) - min(array_chi2)\n",
                "\n",
                "#varianza\n",
                "varianza_normal = np.var(array_normal)\n",
                "varianza_chi2 = np.var(array_chi2)\n",
                "\n",
                "#desviación estandar\n",
                "desvest_normal = np.std(array_normal)\n",
                "desvest_chi2 = np.std(array_chi2)\n",
                "\n",
                "#asimetría\n",
                "import scipy.stats as stats2\n",
                "asim_normal = stats2.skew(array_normal)\n",
                "asim_chi2 = stats2.skew(array_chi2)\n",
                "\n",
                "#curtosis\n",
                "kur_normal = stats2.kurtosis(array_normal)\n",
                "kur_chi2 = stats2.kurtosis(array_chi2)\n",
                "\n",
                "#imprimirlas "
            ]
        },
        {
            "cell_type": "markdown",
            "id": "46c70c3d",
            "metadata": {},
            "source": [
                "### Exercise 2\n",
                "\n",
                "Write a Python program to calculate the standard deviation of the following data:\n",
                "\n",
                "```py\n",
                "data = [4, 2, 5, 8, 6]\n",
                "```"
            ]
        },
        {
            "cell_type": "code",
            "execution_count": 66,
            "id": "d590308e",
            "metadata": {},
            "outputs": [
                {
                    "name": "stdout",
                    "output_type": "stream",
                    "text": [
                        "Muestra: [4, 2, 5, 8, 6]\n",
                        "Promedio: 5.0\n",
                        "Varianza: 5.0\n",
                        "Desviación estándar: 2.23606797749979\n"
                    ]
                }
            ],
            "source": [
                "# TODO\n",
                "\n",
                "data = [4,2,5,8,6]\n",
                "def promedio(data):\n",
                "    suma=0\n",
                "    for n in data:\n",
                "        suma+=n\n",
                "    return suma/len(data)\n",
                "\n",
                "mu= promedio(data)\n",
                "\n",
                "#La varianza de una muestra se calcula como: suma de (x-mu)^2/(n-1)\n",
                "def varianza(data):\n",
                "    suma2=0\n",
                "    for n in data:\n",
                "        suma2+=(n-mu)**2\n",
                "    return suma2/(len(data)-1)\n",
                "\n",
                "import math\n",
                "def desv_est(data):\n",
                "    return math.sqrt(varianza(data))\n",
                "\n",
                "dv = desv_est(data)\n",
                "\n",
                "print(f\"Muestra: {data}\")\n",
                "print(f\"Promedio: {mu}\")\n",
                "print(f\"Varianza: {varianza(data)}\") \n",
                "print(f\"Desviación estándar: {dv}\")\n",
                "\n",
                "\n",
                "#print(promedio(data))\n",
                "#print(np.mean(data))\n",
                "\n",
                "\n"
            ]
        }
    ],
    "metadata": {
        "interpreter": {
            "hash": "9248718ffe6ce6938b217e69dbcc175ea21f4c6b28a317e96c05334edae734bb"
        },
        "kernelspec": {
            "display_name": "Python 3.9.12 ('ML-BOOTCAMP')",
            "language": "python",
            "name": "python3"
        },
        "language_info": {
            "codemirror_mode": {
                "name": "ipython",
                "version": 3
            },
            "file_extension": ".py",
            "mimetype": "text/x-python",
            "name": "python",
            "nbconvert_exporter": "python",
            "pygments_lexer": "ipython3",
            "version": "3.11.4"
        }
    },
    "nbformat": 4,
    "nbformat_minor": 5
}
