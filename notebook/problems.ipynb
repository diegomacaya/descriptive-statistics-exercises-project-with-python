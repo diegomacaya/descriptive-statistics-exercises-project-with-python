{
    "cells": [
        {
            "cell_type": "markdown",
            "id": "ac622319",
            "metadata": {},
            "source": [
                "# Descriptive statistics problems"
            ]
        },
        {
            "cell_type": "markdown",
            "id": "5e0ab0d5",
            "metadata": {},
            "source": [
                "### Exercise 1\n",
                "\n",
                "We will use NumPy to obtain information to describe statistically.\n",
                "\n",
                "- Generate an array of 100 elements following a normal distribution.\n",
                "- Generate an array of 100 elements following a chi-square distribution with 3 degrees of freedom.\n",
                "- Calculate the main metrics and statistical measures that best describe the two vectors."
            ]
        },
        {
            "cell_type": "code",
            "execution_count": 10,
            "id": "34720ab6",
            "metadata": {},
            "outputs": [
                {
                    "name": "stdout",
                    "output_type": "stream",
                    "text": [
                        "Vector Normal: [-0.30559168  0.16003251 -0.0132935   0.65800481 -1.05158129 -0.69835936\n",
                        " -0.71316533 -1.72570298  1.95400538 -1.39052348  0.6606082   1.08886405\n",
                        "  1.2163759  -0.87024846  2.58012866  0.53312765 -0.27993501  1.89809918\n",
                        " -0.77075944 -0.83442486  0.28341646  0.6350091  -0.75965334  0.37704251\n",
                        " -1.29114755 -0.33744249  0.29468659  1.86888291  0.23189062  0.87301212\n",
                        "  2.25903423 -1.92746807 -0.98257407 -0.39644617 -0.60520623 -0.22073927\n",
                        "  0.62366114  0.93809477  0.42438163 -1.57595478 -0.83657041 -1.52068812\n",
                        "  1.14386547  0.72859627 -1.32071891  0.06444514  0.34494268 -0.55888668\n",
                        "  0.56426602  1.35010242  0.05077799  0.07202779  0.84996235  1.47987188\n",
                        "  0.34497364 -0.38336458 -0.64930814 -0.87959035 -0.99403161 -0.38251225\n",
                        " -1.28104223  0.65242098  0.32771629  0.04877356 -2.00549603 -0.12444903\n",
                        "  0.4732252  -0.04290891 -0.19353009  1.11081027 -1.1373194  -0.19213712\n",
                        "  1.63704439  0.41370594 -2.36307748 -0.02520648  1.99509628 -0.56273031\n",
                        " -1.24980457 -1.49737071  1.11417324  0.92464285 -1.36609974  1.28032673\n",
                        "  0.64395496 -0.66347786  1.1105114  -0.1235977  -0.88373048  0.08803755\n",
                        "  2.16962331 -0.06810787  1.69944355 -0.26731639  0.8285942   0.0784406\n",
                        "  0.54944175  1.14891792  1.51874517 -0.92725536]\n",
                        "Vector Chi2: [ 7.07512319  1.35074954  1.91968665  0.34463673  1.51300996  2.68637818\n",
                        "  0.56174226  4.98857959  2.82980379  2.80993994  1.26366176  3.88425778\n",
                        "  2.07773315  1.40834063  3.87187457  1.15888591  0.18440395  1.73959912\n",
                        "  4.90108374  1.16729241  8.77271085  2.03574169  7.58739726 10.05159715\n",
                        "  1.53780015  2.44905577  0.37910025  0.88047164  4.71239985  2.51688895\n",
                        "  3.42467873  6.80711823  0.46261152  0.25484059  4.08834256  2.68681366\n",
                        "  0.19920136  2.88105599  2.71504011  6.10897844  6.73423357  2.35682919\n",
                        "  0.14868644  1.14911086  6.44037275  1.57618944  0.41792163  2.80965033\n",
                        "  6.9308994   6.47088308  0.07923068  3.2432129   2.91450826  3.50441626\n",
                        "  6.53266205  1.21391839  0.68956299  3.98861417  1.64756312  5.57205069\n",
                        "  3.10642999  6.84386979  0.46856891  3.4367701   1.43777009  2.01513954\n",
                        "  1.59444987  2.48727273  2.24611315  8.03099782  3.76727251  1.80955484\n",
                        "  2.25290116  2.65789271  0.62491105  2.56279635  3.72805678  0.86866965\n",
                        "  3.96791739  4.89049451  0.48928378  4.00738288  8.13610527  9.37633894\n",
                        "  4.93825082  0.92833909  1.55138071  1.82236056  2.46345018 12.90526726\n",
                        "  4.11640309  1.97070673  0.50510376  1.57593985  7.78385274  5.65350775\n",
                        "  2.47273061  5.00148935  6.46009193  0.1155299 ]\n"
                    ]
                }
            ],
            "source": [
                "# TODO\n",
                "import numpy as np\n",
                "array_normal = np.random.randn(100) #matriz de 100 elementos distribuidos normal\n",
                "array_chi2 = np.random.chisquare(3,100)\n",
                "print(f\"Vector Normal: {array_normal}\")\n",
                "print(f\"Vector Chi2: {array_chi2}\")\n"
            ]
        },
        {
            "cell_type": "code",
            "execution_count": 11,
            "id": "de42f9e8",
            "metadata": {},
            "outputs": [
                {
                    "name": "stdout",
                    "output_type": "stream",
                    "text": [
                        "Media Normal: 0.0711529002763728\n",
                        "Media Chi2: 3.237805079329367\n",
                        "Moda Normal: -0.30559167616971605\n",
                        "Moda Chi2: 7.075123189609032\n",
                        "Mediana Normal: 0.05761156664600508\n",
                        "Mediana Chi2: 2.539842651827597\n",
                        "Rango Normal: 4.943206141145815\n",
                        "Rango Chi2: 12.826036581435947\n",
                        "Varianza Normal: 1.1023084388668314\n",
                        "Varianza Chi2: 6.651370921640194\n",
                        "Desviación Estandar Normal: 1.0499087764500454\n",
                        "Desviación Estandar Chi2: 2.5790251882523743\n",
                        "Asimetría Normal: 0.10103542155833238\n",
                        "Asimetría Chi2: 1.133918522001716\n",
                        "Kurtosis Normal: -0.49289713160485293\n",
                        "Kurtosis Chi2: 1.0794986749276774\n"
                    ]
                }
            ],
            "source": [
                "#media\n",
                "media_normal = np.mean(array_normal)\n",
                "media_chi2 = np.mean(array_chi2)\n",
                "print(f\"Media Normal: {media_normal}\")\n",
                "print(f\"Media Chi2: {media_chi2}\")\n",
                "\n",
                "#moda\n",
                "import statistics as stats\n",
                "moda_normal = stats.mode(array_normal)\n",
                "moda_chi2 = stats.mode(array_chi2)\n",
                "print(f\"Moda Normal: {moda_normal}\")\n",
                "print(f\"Moda Chi2: {moda_chi2}\")\n",
                "\n",
                "#mediana\n",
                "mediana_normal = stats.median(array_normal)\n",
                "mediana_chi2 = stats.median(array_chi2)\n",
                "print(f\"Mediana Normal: {mediana_normal}\")\n",
                "print(f\"Mediana Chi2: {mediana_chi2}\")\n",
                "\n",
                "#rango\n",
                "rango_normal=max(array_normal)-min(array_normal)\n",
                "rango_chi2=max(array_chi2) - min(array_chi2)\n",
                "print(f\"Rango Normal: {rango_normal}\")\n",
                "print(f\"Rango Chi2: {rango_chi2}\")\n",
                "\n",
                "#varianza\n",
                "varianza_normal = np.var(array_normal)\n",
                "varianza_chi2 = np.var(array_chi2)\n",
                "print(f\"Varianza Normal: {varianza_normal}\")\n",
                "print(f\"Varianza Chi2: {varianza_chi2}\")\n",
                "\n",
                "#desviación estandar\n",
                "desvest_normal = np.std(array_normal)\n",
                "desvest_chi2 = np.std(array_chi2)\n",
                "print(f\"Desviación Estandar Normal: {desvest_normal}\")\n",
                "print(f\"Desviación Estandar Chi2: {desvest_chi2}\")\n",
                "\n",
                "#asimetría\n",
                "import scipy.stats as stats2\n",
                "asim_normal = stats2.skew(array_normal)\n",
                "asim_chi2 = stats2.skew(array_chi2)\n",
                "print(f\"Asimetría Normal: {asim_normal}\")\n",
                "print(f\"Asimetría Chi2: {asim_chi2}\")\n",
                "\n",
                "#curtosis\n",
                "kur_normal = stats2.kurtosis(array_normal)\n",
                "kur_chi2 = stats2.kurtosis(array_chi2)\n",
                "print(f\"Kurtosis Normal: {kur_normal}\")\n",
                "print(f\"Kurtosis Chi2: {kur_chi2}\")"
            ]
        },
        {
            "cell_type": "markdown",
            "id": "46c70c3d",
            "metadata": {},
            "source": [
                "### Exercise 2\n",
                "\n",
                "Write a Python program to calculate the standard deviation of the following data:\n",
                "\n",
                "```py\n",
                "data = [4, 2, 5, 8, 6]\n",
                "```"
            ]
        },
        {
            "cell_type": "code",
            "execution_count": 7,
            "id": "d590308e",
            "metadata": {},
            "outputs": [
                {
                    "name": "stdout",
                    "output_type": "stream",
                    "text": [
                        "Muestra: [4, 2, 5, 8, 6]\n",
                        "Promedio: 5.0\n",
                        "Varianza: 5.0\n",
                        "Desviación estándar: 2.23606797749979\n"
                    ]
                }
            ],
            "source": [
                "# TODO\n",
                "\n",
                "data = [4,2,5,8,6]\n",
                "def promedio(data):\n",
                "    suma=0\n",
                "    for n in data:\n",
                "        suma+=n\n",
                "    return suma/len(data)\n",
                "\n",
                "mu= promedio(data)\n",
                "\n",
                "#La varianza de una muestra se calcula como: suma de (x-mu)^2/(n-1)\n",
                "def varianza(data):\n",
                "    suma2=0\n",
                "    for n in data:\n",
                "        suma2+=(n-mu)**2\n",
                "    return suma2/(len(data)-1)\n",
                "\n",
                "import math\n",
                "def desv_est(data):\n",
                "    return math.sqrt(varianza(data))\n",
                "\n",
                "dv = desv_est(data)\n",
                "\n",
                "print(f\"Muestra: {data}\")\n",
                "print(f\"Promedio: {mu}\")\n",
                "print(f\"Varianza: {varianza(data)}\") \n",
                "print(f\"Desviación estándar: {dv}\")\n",
                "\n",
                "\n",
                "#print(promedio(data))\n",
                "#print(np.mean(data))\n",
                "\n",
                "\n"
            ]
        }
    ],
    "metadata": {
        "interpreter": {
            "hash": "9248718ffe6ce6938b217e69dbcc175ea21f4c6b28a317e96c05334edae734bb"
        },
        "kernelspec": {
            "display_name": "Python 3.9.12 ('ML-BOOTCAMP')",
            "language": "python",
            "name": "python3"
        },
        "language_info": {
            "codemirror_mode": {
                "name": "ipython",
                "version": 3
            },
            "file_extension": ".py",
            "mimetype": "text/x-python",
            "name": "python",
            "nbconvert_exporter": "python",
            "pygments_lexer": "ipython3",
            "version": "3.11.4"
        }
    },
    "nbformat": 4,
    "nbformat_minor": 5
}
